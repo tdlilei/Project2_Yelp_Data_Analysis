{
 "cells": [
  {
   "cell_type": "markdown",
   "metadata": {},
   "source": [
    "# Analysis of Yelp Business Intelligence Data"
   ]
  },
  {
   "cell_type": "markdown",
   "metadata": {},
   "source": [
    "I will analyze a subset of Yelp's business, reviews and user data. This dataset comes to us from [Kaggle](https://www.kaggle.com/yelp-dataset/yelp-dataset) although we have taken steps to pull this data into a publis s3 bucket: `s3://sta9760-lei-yelpdatasets/yelp/*.json`"
   ]
  },
  {
   "cell_type": "markdown",
   "metadata": {},
   "source": [
    "# Installation and Initial Setup"
   ]
  },
  {
   "cell_type": "markdown",
   "metadata": {},
   "source": [
    "Begin by installing the necessary libraries that you may need to conduct your analysis. At the very least, you must install `pandas` and `matplotlib`"
   ]
  },
  {
   "cell_type": "code",
   "execution_count": 1,
   "metadata": {},
   "outputs": [
    {
     "data": {
      "text/html": [
       "Current session configs: <tt>{'conf': {'spark.pyspark.python': 'python3', 'spark.pyspark.virtualenv.enabled': 'true', 'spark.pyspark.virtualenv.type': 'native', 'spark.pyspark.virtualenv.bin.path': '/usr/bin/virtualenv'}, 'kind': 'pyspark'}</tt><br>"
      ],
      "text/plain": [
       "<IPython.core.display.HTML object>"
      ]
     },
     "metadata": {},
     "output_type": "display_data"
    },
    {
     "data": {
      "text/html": [
       "<table>\n",
       "<tr><th>ID</th><th>YARN Application ID</th><th>Kind</th><th>State</th><th>Spark UI</th><th>Driver log</th><th>Current session?</th></tr><tr><td>2</td><td>application_1638027978840_0003</td><td>pyspark</td><td>idle</td><td><a target=\"_blank\" href=\"http://ip-172-31-15-248.us-west-1.compute.internal:20888/proxy/application_1638027978840_0003/\">Link</a></td><td><a target=\"_blank\" href=\"http://ip-172-31-11-185.us-west-1.compute.internal:8042/node/containerlogs/container_1638027978840_0003_01_000001/livy\">Link</a></td><td></td></tr></table>"
      ],
      "text/plain": [
       "<IPython.core.display.HTML object>"
      ]
     },
     "metadata": {},
     "output_type": "display_data"
    }
   ],
   "source": [
    "%%info"
   ]
  },
  {
   "cell_type": "code",
   "execution_count": 2,
   "metadata": {},
   "outputs": [
    {
     "data": {
      "application/vnd.jupyter.widget-view+json": {
       "model_id": "897bd9d9aa74427790df99de78bcd6b0",
       "version_major": 2,
       "version_minor": 0
      },
      "text/plain": [
       "VBox()"
      ]
     },
     "metadata": {},
     "output_type": "display_data"
    },
    {
     "name": "stdout",
     "output_type": "stream",
     "text": [
      "Starting Spark application\n"
     ]
    },
    {
     "data": {
      "text/html": [
       "<table>\n",
       "<tr><th>ID</th><th>YARN Application ID</th><th>Kind</th><th>State</th><th>Spark UI</th><th>Driver log</th><th>Current session?</th></tr><tr><td>3</td><td>application_1638027978840_0004</td><td>pyspark</td><td>idle</td><td></td><td></td><td>✔</td></tr></table>"
      ],
      "text/plain": [
       "<IPython.core.display.HTML object>"
      ]
     },
     "metadata": {},
     "output_type": "display_data"
    },
    {
     "data": {
      "application/vnd.jupyter.widget-view+json": {
       "model_id": "",
       "version_major": 2,
       "version_minor": 0
      },
      "text/plain": [
       "FloatProgress(value=0.0, bar_style='info', description='Progress:', layout=Layout(height='25px', width='50%'),…"
      ]
     },
     "metadata": {},
     "output_type": "display_data"
    },
    {
     "name": "stdout",
     "output_type": "stream",
     "text": [
      "SparkSession available as 'spark'.\n"
     ]
    },
    {
     "data": {
      "application/vnd.jupyter.widget-view+json": {
       "model_id": "",
       "version_major": 2,
       "version_minor": 0
      },
      "text/plain": [
       "FloatProgress(value=0.0, bar_style='info', description='Progress:', layout=Layout(height='25px', width='50%'),…"
      ]
     },
     "metadata": {},
     "output_type": "display_data"
    },
    {
     "name": "stdout",
     "output_type": "stream",
     "text": [
      "Collecting pandas==1.0.3\n",
      "  Using cached https://files.pythonhosted.org/packages/4a/6a/94b219b8ea0f2d580169e85ed1edc0163743f55aaeca8a44c2e8fc1e344e/pandas-1.0.3-cp37-cp37m-manylinux1_x86_64.whl\n",
      "Requirement already satisfied: pytz>=2017.2 in /usr/local/lib/python3.7/site-packages (from pandas==1.0.3)\n",
      "Requirement already satisfied: numpy>=1.13.3 in /usr/local/lib64/python3.7/site-packages (from pandas==1.0.3)\n",
      "Collecting python-dateutil>=2.6.1 (from pandas==1.0.3)\n",
      "  Using cached https://files.pythonhosted.org/packages/36/7a/87837f39d0296e723bb9b62bbb257d0355c7f6128853c78955f57342a56d/python_dateutil-2.8.2-py2.py3-none-any.whl\n",
      "Requirement already satisfied: six>=1.5 in /usr/local/lib/python3.7/site-packages (from python-dateutil>=2.6.1->pandas==1.0.3)\n",
      "Installing collected packages: python-dateutil, pandas\n",
      "Successfully installed pandas-1.0.3 python-dateutil-2.8.2\n",
      "\n",
      "Collecting matplotlib==3.2.1\n",
      "  Using cached https://files.pythonhosted.org/packages/b2/c2/71fcf957710f3ba1f09088b35776a799ba7dd95f7c2b195ec800933b276b/matplotlib-3.2.1-cp37-cp37m-manylinux1_x86_64.whl\n",
      "Requirement already satisfied: python-dateutil>=2.1 in /mnt/tmp/1638043908499-0/lib/python3.7/site-packages (from matplotlib==3.2.1)\n",
      "Collecting pyparsing!=2.0.4,!=2.1.2,!=2.1.6,>=2.0.1 (from matplotlib==3.2.1)\n",
      "  Using cached https://files.pythonhosted.org/packages/a0/34/895006117f6fce0b4de045c87e154ee4a20c68ec0a4c9a36d900888fb6bc/pyparsing-3.0.6-py3-none-any.whl\n",
      "Collecting cycler>=0.10 (from matplotlib==3.2.1)\n",
      "  Using cached https://files.pythonhosted.org/packages/5c/f9/695d6bedebd747e5eb0fe8fad57b72fdf25411273a39791cde838d5a8f51/cycler-0.11.0-py3-none-any.whl\n",
      "Requirement already satisfied: numpy>=1.11 in /usr/local/lib64/python3.7/site-packages (from matplotlib==3.2.1)\n",
      "Collecting kiwisolver>=1.0.1 (from matplotlib==3.2.1)\n",
      "  Using cached https://files.pythonhosted.org/packages/09/6b/6e567cb2e86d4e5939a9233f8734e26021b6a9c1bc4b1edccba236a84cc2/kiwisolver-1.3.2-cp37-cp37m-manylinux_2_5_x86_64.manylinux1_x86_64.whl\n",
      "Requirement already satisfied: six>=1.5 in /usr/local/lib/python3.7/site-packages (from python-dateutil>=2.1->matplotlib==3.2.1)\n",
      "Installing collected packages: pyparsing, cycler, kiwisolver, matplotlib\n",
      "Successfully installed cycler-0.11.0 kiwisolver-1.3.2 matplotlib-3.2.1 pyparsing-3.0.6\n",
      "\n",
      "Collecting scipy==1.7.0\n",
      "  Using cached https://files.pythonhosted.org/packages/b2/85/b00f13b52d079b5625e1a12330fc6453c947a482ff667a907c7bc60ed220/scipy-1.7.0-cp37-cp37m-manylinux_2_5_x86_64.manylinux1_x86_64.whl\n",
      "Requirement already satisfied: numpy<1.23.0,>=1.16.5 in /usr/local/lib64/python3.7/site-packages (from scipy==1.7.0)\n",
      "Installing collected packages: scipy\n",
      "Successfully installed scipy-1.7.0\n",
      "\n",
      "Collecting seaborn==0.10.0\n",
      "  Using cached https://files.pythonhosted.org/packages/70/bd/5e6bf595fe6ee0f257ae49336dd180768c1ed3d7c7155b2fdf894c1c808a/seaborn-0.10.0-py3-none-any.whl\n",
      "Requirement already satisfied: pandas>=0.22.0 in /mnt/tmp/1638043908499-0/lib/python3.7/site-packages (from seaborn==0.10.0)\n",
      "Requirement already satisfied: numpy>=1.13.3 in /usr/local/lib64/python3.7/site-packages (from seaborn==0.10.0)\n",
      "Requirement already satisfied: scipy>=1.0.1 in /mnt/tmp/1638043908499-0/lib/python3.7/site-packages (from seaborn==0.10.0)\n",
      "Requirement already satisfied: matplotlib>=2.1.2 in /mnt/tmp/1638043908499-0/lib/python3.7/site-packages (from seaborn==0.10.0)\n",
      "Requirement already satisfied: pytz>=2017.2 in /usr/local/lib/python3.7/site-packages (from pandas>=0.22.0->seaborn==0.10.0)\n",
      "Requirement already satisfied: python-dateutil>=2.6.1 in /mnt/tmp/1638043908499-0/lib/python3.7/site-packages (from pandas>=0.22.0->seaborn==0.10.0)\n",
      "Requirement already satisfied: pyparsing!=2.0.4,!=2.1.2,!=2.1.6,>=2.0.1 in /mnt/tmp/1638043908499-0/lib/python3.7/site-packages (from matplotlib>=2.1.2->seaborn==0.10.0)\n",
      "Requirement already satisfied: cycler>=0.10 in /mnt/tmp/1638043908499-0/lib/python3.7/site-packages (from matplotlib>=2.1.2->seaborn==0.10.0)\n",
      "Requirement already satisfied: kiwisolver>=1.0.1 in /mnt/tmp/1638043908499-0/lib/python3.7/site-packages (from matplotlib>=2.1.2->seaborn==0.10.0)\n",
      "Requirement already satisfied: six>=1.5 in /usr/local/lib/python3.7/site-packages (from python-dateutil>=2.6.1->pandas>=0.22.0->seaborn==0.10.0)\n",
      "Installing collected packages: seaborn\n",
      "Successfully installed seaborn-0.10.0"
     ]
    }
   ],
   "source": [
    "sc.install_pypi_package(\"pandas==1.0.3\")\n",
    "sc.install_pypi_package(\"matplotlib==3.2.1\")\n",
    "sc.install_pypi_package(\"scipy==1.7.0\")\n",
    "sc.install_pypi_package( \"seaborn==0.10.0\" )"
   ]
  },
  {
   "cell_type": "code",
   "execution_count": 3,
   "metadata": {},
   "outputs": [
    {
     "data": {
      "application/vnd.jupyter.widget-view+json": {
       "model_id": "40d7a97ee89242fa83be5ad60869cad7",
       "version_major": 2,
       "version_minor": 0
      },
      "text/plain": [
       "VBox()"
      ]
     },
     "metadata": {},
     "output_type": "display_data"
    },
    {
     "data": {
      "application/vnd.jupyter.widget-view+json": {
       "model_id": "",
       "version_major": 2,
       "version_minor": 0
      },
      "text/plain": [
       "FloatProgress(value=0.0, bar_style='info', description='Progress:', layout=Layout(height='25px', width='50%'),…"
      ]
     },
     "metadata": {},
     "output_type": "display_data"
    },
    {
     "name": "stdout",
     "output_type": "stream",
     "text": [
      "Package                    Version  \n",
      "-------------------------- ---------\n",
      "beautifulsoup4             4.9.1    \n",
      "boto                       2.49.0   \n",
      "click                      7.1.2    \n",
      "cycler                     0.11.0   \n",
      "jmespath                   0.10.0   \n",
      "joblib                     0.16.0   \n",
      "kiwisolver                 1.3.2    \n",
      "lxml                       4.5.2    \n",
      "matplotlib                 3.2.1    \n",
      "mysqlclient                1.4.2    \n",
      "nltk                       3.5      \n",
      "nose                       1.3.4    \n",
      "numpy                      1.16.5   \n",
      "pandas                     1.0.3    \n",
      "pip                        9.0.1    \n",
      "py-dateutil                2.2      \n",
      "pyparsing                  3.0.6    \n",
      "python-dateutil            2.8.2    \n",
      "python37-sagemaker-pyspark 1.4.0    \n",
      "pytz                       2020.1   \n",
      "PyYAML                     5.3.1    \n",
      "regex                      2020.7.14\n",
      "scipy                      1.7.0    \n",
      "seaborn                    0.10.0   \n",
      "setuptools                 28.8.0   \n",
      "six                        1.13.0   \n",
      "soupsieve                  1.9.5    \n",
      "tqdm                       4.48.2   \n",
      "wheel                      0.29.0   \n",
      "windmill                   1.6"
     ]
    }
   ],
   "source": [
    "sc.list_packages()"
   ]
  },
  {
   "cell_type": "markdown",
   "metadata": {},
   "source": [
    "## Importing"
   ]
  },
  {
   "cell_type": "markdown",
   "metadata": {},
   "source": [
    "Now, import the installed packages from the previous block below."
   ]
  },
  {
   "cell_type": "code",
   "execution_count": 4,
   "metadata": {},
   "outputs": [
    {
     "data": {
      "application/vnd.jupyter.widget-view+json": {
       "model_id": "57a1be25818a4e9d834a277ca2571ef0",
       "version_major": 2,
       "version_minor": 0
      },
      "text/plain": [
       "VBox()"
      ]
     },
     "metadata": {},
     "output_type": "display_data"
    },
    {
     "data": {
      "application/vnd.jupyter.widget-view+json": {
       "model_id": "",
       "version_major": 2,
       "version_minor": 0
      },
      "text/plain": [
       "FloatProgress(value=0.0, bar_style='info', description='Progress:', layout=Layout(height='25px', width='50%'),…"
      ]
     },
     "metadata": {},
     "output_type": "display_data"
    }
   ],
   "source": [
    "import pandas as pd\n",
    "import numpy as np\n",
    "import matplotlib.pyplot as plt\n",
    "import seaborn as sns"
   ]
  },
  {
   "cell_type": "markdown",
   "metadata": {},
   "source": [
    "## Loading Data"
   ]
  },
  {
   "cell_type": "markdown",
   "metadata": {},
   "source": [
    "We are finally ready to load data. Using `spark` load the data from S3 into a `dataframe` object that we can manipulate further down in our analysis."
   ]
  },
  {
   "cell_type": "code",
   "execution_count": 5,
   "metadata": {},
   "outputs": [
    {
     "data": {
      "application/vnd.jupyter.widget-view+json": {
       "model_id": "eadd73687bfc41b6968fddfe899b88da",
       "version_major": 2,
       "version_minor": 0
      },
      "text/plain": [
       "VBox()"
      ]
     },
     "metadata": {},
     "output_type": "display_data"
    },
    {
     "data": {
      "application/vnd.jupyter.widget-view+json": {
       "model_id": "",
       "version_major": 2,
       "version_minor": 0
      },
      "text/plain": [
       "FloatProgress(value=0.0, bar_style='info', description='Progress:', layout=Layout(height='25px', width='50%'),…"
      ]
     },
     "metadata": {},
     "output_type": "display_data"
    }
   ],
   "source": [
    "df = spark.read.json('s3://sta9760-lei-yelpdatasets/yelp/yelp_academic_dataset_business.json')"
   ]
  },
  {
   "cell_type": "code",
   "execution_count": 6,
   "metadata": {},
   "outputs": [
    {
     "data": {
      "application/vnd.jupyter.widget-view+json": {
       "model_id": "bf6423c2707e4a45938113529b66d594",
       "version_major": 2,
       "version_minor": 0
      },
      "text/plain": [
       "VBox()"
      ]
     },
     "metadata": {},
     "output_type": "display_data"
    },
    {
     "data": {
      "application/vnd.jupyter.widget-view+json": {
       "model_id": "",
       "version_major": 2,
       "version_minor": 0
      },
      "text/plain": [
       "FloatProgress(value=0.0, bar_style='info', description='Progress:', layout=Layout(height='25px', width='50%'),…"
      ]
     },
     "metadata": {},
     "output_type": "display_data"
    },
    {
     "name": "stdout",
     "output_type": "stream",
     "text": [
      "<class 'pyspark.sql.dataframe.DataFrame'>"
     ]
    }
   ],
   "source": [
    "type(df)"
   ]
  },
  {
   "cell_type": "markdown",
   "metadata": {},
   "source": [
    "## Overview of Data"
   ]
  },
  {
   "cell_type": "markdown",
   "metadata": {},
   "source": [
    "Display the number of rows and columns in our dataset."
   ]
  },
  {
   "cell_type": "code",
   "execution_count": 7,
   "metadata": {},
   "outputs": [
    {
     "data": {
      "application/vnd.jupyter.widget-view+json": {
       "model_id": "a53b8879b34b4ac0a16eead570ffb272",
       "version_major": 2,
       "version_minor": 0
      },
      "text/plain": [
       "VBox()"
      ]
     },
     "metadata": {},
     "output_type": "display_data"
    },
    {
     "data": {
      "application/vnd.jupyter.widget-view+json": {
       "model_id": "",
       "version_major": 2,
       "version_minor": 0
      },
      "text/plain": [
       "FloatProgress(value=0.0, bar_style='info', description='Progress:', layout=Layout(height='25px', width='50%'),…"
      ]
     },
     "metadata": {},
     "output_type": "display_data"
    },
    {
     "name": "stdout",
     "output_type": "stream",
     "text": [
      "Total Columns: 14\n",
      "Total Rows: 160,585"
     ]
    }
   ],
   "source": [
    "print(f'Total Columns: {len(df.dtypes)}')\n",
    "print(f'Total Rows: {df.count():,}')"
   ]
  },
  {
   "cell_type": "code",
   "execution_count": 8,
   "metadata": {},
   "outputs": [
    {
     "data": {
      "application/vnd.jupyter.widget-view+json": {
       "model_id": "a209235275fb458598acb0ea60049510",
       "version_major": 2,
       "version_minor": 0
      },
      "text/plain": [
       "VBox()"
      ]
     },
     "metadata": {},
     "output_type": "display_data"
    },
    {
     "data": {
      "application/vnd.jupyter.widget-view+json": {
       "model_id": "",
       "version_major": 2,
       "version_minor": 0
      },
      "text/plain": [
       "FloatProgress(value=0.0, bar_style='info', description='Progress:', layout=Layout(height='25px', width='50%'),…"
      ]
     },
     "metadata": {},
     "output_type": "display_data"
    },
    {
     "name": "stdout",
     "output_type": "stream",
     "text": [
      "root\n",
      " |-- address: string (nullable = true)\n",
      " |-- attributes: struct (nullable = true)\n",
      " |    |-- AcceptsInsurance: string (nullable = true)\n",
      " |    |-- AgesAllowed: string (nullable = true)\n",
      " |    |-- Alcohol: string (nullable = true)\n",
      " |    |-- Ambience: string (nullable = true)\n",
      " |    |-- BYOB: string (nullable = true)\n",
      " |    |-- BYOBCorkage: string (nullable = true)\n",
      " |    |-- BestNights: string (nullable = true)\n",
      " |    |-- BikeParking: string (nullable = true)\n",
      " |    |-- BusinessAcceptsBitcoin: string (nullable = true)\n",
      " |    |-- BusinessAcceptsCreditCards: string (nullable = true)\n",
      " |    |-- BusinessParking: string (nullable = true)\n",
      " |    |-- ByAppointmentOnly: string (nullable = true)\n",
      " |    |-- Caters: string (nullable = true)\n",
      " |    |-- CoatCheck: string (nullable = true)\n",
      " |    |-- Corkage: string (nullable = true)\n",
      " |    |-- DietaryRestrictions: string (nullable = true)\n",
      " |    |-- DogsAllowed: string (nullable = true)\n",
      " |    |-- DriveThru: string (nullable = true)\n",
      " |    |-- GoodForDancing: string (nullable = true)\n",
      " |    |-- GoodForKids: string (nullable = true)\n",
      " |    |-- GoodForMeal: string (nullable = true)\n",
      " |    |-- HairSpecializesIn: string (nullable = true)\n",
      " |    |-- HappyHour: string (nullable = true)\n",
      " |    |-- HasTV: string (nullable = true)\n",
      " |    |-- Music: string (nullable = true)\n",
      " |    |-- NoiseLevel: string (nullable = true)\n",
      " |    |-- Open24Hours: string (nullable = true)\n",
      " |    |-- OutdoorSeating: string (nullable = true)\n",
      " |    |-- RestaurantsAttire: string (nullable = true)\n",
      " |    |-- RestaurantsCounterService: string (nullable = true)\n",
      " |    |-- RestaurantsDelivery: string (nullable = true)\n",
      " |    |-- RestaurantsGoodForGroups: string (nullable = true)\n",
      " |    |-- RestaurantsPriceRange2: string (nullable = true)\n",
      " |    |-- RestaurantsReservations: string (nullable = true)\n",
      " |    |-- RestaurantsTableService: string (nullable = true)\n",
      " |    |-- RestaurantsTakeOut: string (nullable = true)\n",
      " |    |-- Smoking: string (nullable = true)\n",
      " |    |-- WheelchairAccessible: string (nullable = true)\n",
      " |    |-- WiFi: string (nullable = true)\n",
      " |-- business_id: string (nullable = true)\n",
      " |-- categories: string (nullable = true)\n",
      " |-- city: string (nullable = true)\n",
      " |-- hours: struct (nullable = true)\n",
      " |    |-- Friday: string (nullable = true)\n",
      " |    |-- Monday: string (nullable = true)\n",
      " |    |-- Saturday: string (nullable = true)\n",
      " |    |-- Sunday: string (nullable = true)\n",
      " |    |-- Thursday: string (nullable = true)\n",
      " |    |-- Tuesday: string (nullable = true)\n",
      " |    |-- Wednesday: string (nullable = true)\n",
      " |-- is_open: long (nullable = true)\n",
      " |-- latitude: double (nullable = true)\n",
      " |-- longitude: double (nullable = true)\n",
      " |-- name: string (nullable = true)\n",
      " |-- postal_code: string (nullable = true)\n",
      " |-- review_count: long (nullable = true)\n",
      " |-- stars: double (nullable = true)\n",
      " |-- state: string (nullable = true)"
     ]
    }
   ],
   "source": [
    "df.printSchema()"
   ]
  },
  {
   "cell_type": "markdown",
   "metadata": {},
   "source": [
    "Display the DataFrame schema below."
   ]
  },
  {
   "cell_type": "markdown",
   "metadata": {},
   "source": [
    "Display the first 5 rows with the following columns:\n",
    "\n",
    "* `business_id`\n",
    "* `name`\n",
    "* `city`\n",
    "* `state`\n",
    "* `stars`\n",
    "* `categories`"
   ]
  },
  {
   "cell_type": "code",
   "execution_count": 9,
   "metadata": {},
   "outputs": [
    {
     "data": {
      "application/vnd.jupyter.widget-view+json": {
       "model_id": "af91ca4ff82b44f78c24a09888dd27cc",
       "version_major": 2,
       "version_minor": 0
      },
      "text/plain": [
       "VBox()"
      ]
     },
     "metadata": {},
     "output_type": "display_data"
    },
    {
     "data": {
      "application/vnd.jupyter.widget-view+json": {
       "model_id": "",
       "version_major": 2,
       "version_minor": 0
      },
      "text/plain": [
       "FloatProgress(value=0.0, bar_style='info', description='Progress:', layout=Layout(height='25px', width='50%'),…"
      ]
     },
     "metadata": {},
     "output_type": "display_data"
    },
    {
     "name": "stdout",
     "output_type": "stream",
     "text": [
      "+--------------------+--------------------+-----------+-----+-----+--------------------+\n",
      "|         business_id|                name|       city|state|stars|          categories|\n",
      "+--------------------+--------------------+-----------+-----+-----+--------------------+\n",
      "|6iYb2HFDywm3zjuRg...| Oskar Blues Taproom|    Boulder|   CO|  4.0|Gastropubs, Food,...|\n",
      "|tCbdrRPZA0oiIYSmH...|Flying Elephants ...|   Portland|   OR|  4.0|Salad, Soup, Sand...|\n",
      "|bvN78flM8NLprQ1a1...|      The Reclaimory|   Portland|   OR|  4.5|Antiques, Fashion...|\n",
      "|oaepsyvc0J17qwi8c...|         Great Clips|Orange City|   FL|  3.0|Beauty & Spas, Ha...|\n",
      "|PE9uqAjdw0E4-8mjG...|   Crossfit Terminus|    Atlanta|   GA|  4.0|Gyms, Active Life...|\n",
      "+--------------------+--------------------+-----------+-----+-----+--------------------+"
     ]
    }
   ],
   "source": [
    "df.createOrReplaceTempView('business')\n",
    "sqldf = spark.sql(\n",
    "'''\n",
    "SELECT business_id,name,city,state,stars,categories\n",
    "FROM business\n",
    "LIMIT 5\n",
    "'''\n",
    ")\n",
    "sqldf.show()"
   ]
  },
  {
   "cell_type": "markdown",
   "metadata": {},
   "source": [
    "# Analyzing Categories"
   ]
  },
  {
   "cell_type": "markdown",
   "metadata": {},
   "source": [
    "Let's now answer this question: **how many unique categories are represented in this dataset?**\n",
    "\n",
    "Essentially, we have the categories per business as a list - this is useful to quickly see what each business might be represented as but it is difficult to easily answer questions such as:\n",
    "\n",
    "* How many businesses are categorized as `Active Life`, for instance\n",
    "* What are the top 20 most popular categories available?"
   ]
  },
  {
   "cell_type": "markdown",
   "metadata": {},
   "source": [
    "## Association Table\n",
    "\n",
    "We need to \"break out\" these categories from the business ids? One common approach to take is to build an association table mapping a single business id multiple times to each distinct category.\n",
    "\n",
    "For instance, given the following:\n",
    "\n",
    "\n",
    "| business_id | categories |\n",
    "|-------------|------------|\n",
    "| abcd123     | a,b,c      |\n",
    "\n",
    "We would like to derive something like:\n",
    "\n",
    "| business_id | category |\n",
    "|-------------|------------|\n",
    "| abcd123     | a          |\n",
    "| abcd123     | b          |\n",
    "| abcd123     | c          |\n",
    "\n",
    "\n",
    "What this does is allow us to then perform a myriad of rollups and other analysis on this association table which can aid us in answering the questions asked above.\n",
    "\n",
    "Implement the code necessary to derive the table described from your original yelp dataframe."
   ]
  },
  {
   "cell_type": "code",
   "execution_count": 10,
   "metadata": {},
   "outputs": [
    {
     "data": {
      "application/vnd.jupyter.widget-view+json": {
       "model_id": "ca41113284e847b4a4533aa584324fd2",
       "version_major": 2,
       "version_minor": 0
      },
      "text/plain": [
       "VBox()"
      ]
     },
     "metadata": {},
     "output_type": "display_data"
    },
    {
     "data": {
      "application/vnd.jupyter.widget-view+json": {
       "model_id": "",
       "version_major": 2,
       "version_minor": 0
      },
      "text/plain": [
       "FloatProgress(value=0.0, bar_style='info', description='Progress:', layout=Layout(height='25px', width='50%'),…"
      ]
     },
     "metadata": {},
     "output_type": "display_data"
    },
    {
     "name": "stdout",
     "output_type": "stream",
     "text": [
      "+--------------------+--------------------+\n",
      "|         business_id|          categories|\n",
      "+--------------------+--------------------+\n",
      "|6iYb2HFDywm3zjuRg...|Gastropubs, Food,...|\n",
      "|tCbdrRPZA0oiIYSmH...|Salad, Soup, Sand...|\n",
      "|bvN78flM8NLprQ1a1...|Antiques, Fashion...|\n",
      "|oaepsyvc0J17qwi8c...|Beauty & Spas, Ha...|\n",
      "|PE9uqAjdw0E4-8mjG...|Gyms, Active Life...|\n",
      "+--------------------+--------------------+\n",
      "only showing top 5 rows"
     ]
    }
   ],
   "source": [
    "df.select('business_id','categories').show(5)"
   ]
  },
  {
   "cell_type": "code",
   "execution_count": 11,
   "metadata": {},
   "outputs": [
    {
     "data": {
      "application/vnd.jupyter.widget-view+json": {
       "model_id": "7eafb6e647d74eb6b2c9099ca4eefdbf",
       "version_major": 2,
       "version_minor": 0
      },
      "text/plain": [
       "VBox()"
      ]
     },
     "metadata": {},
     "output_type": "display_data"
    },
    {
     "data": {
      "application/vnd.jupyter.widget-view+json": {
       "model_id": "",
       "version_major": 2,
       "version_minor": 0
      },
      "text/plain": [
       "FloatProgress(value=0.0, bar_style='info', description='Progress:', layout=Layout(height='25px', width='50%'),…"
      ]
     },
     "metadata": {},
     "output_type": "display_data"
    },
    {
     "name": "stdout",
     "output_type": "stream",
     "text": [
      "+--------------------+--------------------+\n",
      "|         business_id|            category|\n",
      "+--------------------+--------------------+\n",
      "|6iYb2HFDywm3zjuRg...|          Gastropubs|\n",
      "|6iYb2HFDywm3zjuRg...|                Food|\n",
      "|6iYb2HFDywm3zjuRg...|        Beer Gardens|\n",
      "|6iYb2HFDywm3zjuRg...|         Restaurants|\n",
      "|6iYb2HFDywm3zjuRg...|                Bars|\n",
      "|6iYb2HFDywm3zjuRg...|American (Traditi...|\n",
      "|6iYb2HFDywm3zjuRg...|            Beer Bar|\n",
      "|6iYb2HFDywm3zjuRg...|           Nightlife|\n",
      "|6iYb2HFDywm3zjuRg...|           Breweries|\n",
      "|tCbdrRPZA0oiIYSmH...|               Salad|\n",
      "|tCbdrRPZA0oiIYSmH...|                Soup|\n",
      "|tCbdrRPZA0oiIYSmH...|          Sandwiches|\n",
      "|tCbdrRPZA0oiIYSmH...|               Delis|\n",
      "|tCbdrRPZA0oiIYSmH...|         Restaurants|\n",
      "|tCbdrRPZA0oiIYSmH...|               Cafes|\n",
      "|tCbdrRPZA0oiIYSmH...|          Vegetarian|\n",
      "|bvN78flM8NLprQ1a1...|            Antiques|\n",
      "|bvN78flM8NLprQ1a1...|             Fashion|\n",
      "|bvN78flM8NLprQ1a1...|                Used|\n",
      "|bvN78flM8NLprQ1a1...|Vintage & Consign...|\n",
      "+--------------------+--------------------+\n",
      "only showing top 20 rows"
     ]
    }
   ],
   "source": [
    "from pyspark.sql.functions import split, explode\n",
    "\n",
    "association_table= df.select(\"business_id\",explode(split(df.categories, ', '))\\\n",
    "                     .alias('category'))\n",
    "association_table.show()"
   ]
  },
  {
   "cell_type": "markdown",
   "metadata": {},
   "source": [
    "Display the first 5 rows of your association table below."
   ]
  },
  {
   "cell_type": "code",
   "execution_count": 12,
   "metadata": {},
   "outputs": [
    {
     "data": {
      "application/vnd.jupyter.widget-view+json": {
       "model_id": "fc44bc5dc430487db4ce82262bca85e5",
       "version_major": 2,
       "version_minor": 0
      },
      "text/plain": [
       "VBox()"
      ]
     },
     "metadata": {},
     "output_type": "display_data"
    },
    {
     "data": {
      "application/vnd.jupyter.widget-view+json": {
       "model_id": "",
       "version_major": 2,
       "version_minor": 0
      },
      "text/plain": [
       "FloatProgress(value=0.0, bar_style='info', description='Progress:', layout=Layout(height='25px', width='50%'),…"
      ]
     },
     "metadata": {},
     "output_type": "display_data"
    },
    {
     "name": "stdout",
     "output_type": "stream",
     "text": [
      "+--------------------+------------+\n",
      "|         business_id|    category|\n",
      "+--------------------+------------+\n",
      "|6iYb2HFDywm3zjuRg...|  Gastropubs|\n",
      "|6iYb2HFDywm3zjuRg...|        Food|\n",
      "|6iYb2HFDywm3zjuRg...|Beer Gardens|\n",
      "|6iYb2HFDywm3zjuRg...| Restaurants|\n",
      "|6iYb2HFDywm3zjuRg...|        Bars|\n",
      "+--------------------+------------+\n",
      "only showing top 5 rows"
     ]
    }
   ],
   "source": [
    "association_table.select('business_id','category').show(5)"
   ]
  },
  {
   "cell_type": "markdown",
   "metadata": {},
   "source": [
    "## Total Unique Categories\n",
    "\n",
    "Finally, we are ready to answer the question: **what is the total number of unique categories available?**\n",
    "\n",
    "Below, implement the code necessary to calculate this figure."
   ]
  },
  {
   "cell_type": "code",
   "execution_count": 13,
   "metadata": {},
   "outputs": [
    {
     "data": {
      "application/vnd.jupyter.widget-view+json": {
       "model_id": "b371c7e4d3c94d8b900bce62ef0c0168",
       "version_major": 2,
       "version_minor": 0
      },
      "text/plain": [
       "VBox()"
      ]
     },
     "metadata": {},
     "output_type": "display_data"
    },
    {
     "data": {
      "application/vnd.jupyter.widget-view+json": {
       "model_id": "",
       "version_major": 2,
       "version_minor": 0
      },
      "text/plain": [
       "FloatProgress(value=0.0, bar_style='info', description='Progress:', layout=Layout(height='25px', width='50%'),…"
      ]
     },
     "metadata": {},
     "output_type": "display_data"
    },
    {
     "name": "stdout",
     "output_type": "stream",
     "text": [
      "1330"
     ]
    }
   ],
   "source": [
    "association_table.select('category').distinct().count()"
   ]
  },
  {
   "cell_type": "markdown",
   "metadata": {},
   "source": [
    "## Top Categories By Business\n",
    "\n",
    "Now let's find the top categories in this dataset by rolling up categories."
   ]
  },
  {
   "cell_type": "markdown",
   "metadata": {},
   "source": [
    "### Counts of Businesses / Category"
   ]
  },
  {
   "cell_type": "markdown",
   "metadata": {},
   "source": [
    "So now, let's unroll our distinct count a bit and display the per count value of businesses per category.\n",
    "\n",
    "The expected output should be:\n",
    "\n",
    "| category | count |\n",
    "|-------------|------------|\n",
    "| a     | 15         |\n",
    "| b     | 2          |\n",
    "| c     | 45          |\n",
    "\n",
    "Or something to that effect."
   ]
  },
  {
   "cell_type": "code",
   "execution_count": 14,
   "metadata": {},
   "outputs": [
    {
     "data": {
      "application/vnd.jupyter.widget-view+json": {
       "model_id": "d67be427e483430b902c841ff605305f",
       "version_major": 2,
       "version_minor": 0
      },
      "text/plain": [
       "VBox()"
      ]
     },
     "metadata": {},
     "output_type": "display_data"
    },
    {
     "data": {
      "application/vnd.jupyter.widget-view+json": {
       "model_id": "",
       "version_major": 2,
       "version_minor": 0
      },
      "text/plain": [
       "FloatProgress(value=0.0, bar_style='info', description='Progress:', layout=Layout(height='25px', width='50%'),…"
      ]
     },
     "metadata": {},
     "output_type": "display_data"
    },
    {
     "name": "stdout",
     "output_type": "stream",
     "text": [
      "+--------------------+-----+\n",
      "|            category|count|\n",
      "+--------------------+-----+\n",
      "|      Dermatologists|  351|\n",
      "|      Paddleboarding|   67|\n",
      "|        Aerial Tours|    8|\n",
      "|         Hobby Shops|  610|\n",
      "|          Bubble Tea|  779|\n",
      "|             Embassy|    9|\n",
      "|             Tanning|  701|\n",
      "|            Handyman|  507|\n",
      "|      Aerial Fitness|   13|\n",
      "|             Falafel|  141|\n",
      "|        Summer Camps|  308|\n",
      "|       Outlet Stores|  184|\n",
      "|     Clothing Rental|   37|\n",
      "|      Sporting Goods| 1864|\n",
      "|     Cooking Schools|  114|\n",
      "|  College Counseling|   20|\n",
      "|  Lactation Services|   47|\n",
      "|Ski & Snowboard S...|   55|\n",
      "|             Museums|  336|\n",
      "|              Doulas|   52|\n",
      "+--------------------+-----+\n",
      "only showing top 20 rows"
     ]
    }
   ],
   "source": [
    "count_category= df.select(explode(split(df.categories, ', '))\\\n",
    "                                       .alias('category'))\\\n",
    ".select('category').groupby('category').count().show()"
   ]
  },
  {
   "cell_type": "markdown",
   "metadata": {},
   "source": [
    "### Bar Chart of Top Categories\n",
    "\n",
    "With this data available, let us now build a barchart of the top 20 categories. \n",
    "\n",
    "**HINT**: don't forget about the matplotlib magic!\n",
    "\n",
    "```\n",
    "%matplot plt\n",
    "```"
   ]
  },
  {
   "cell_type": "code",
   "execution_count": 15,
   "metadata": {},
   "outputs": [
    {
     "data": {
      "application/vnd.jupyter.widget-view+json": {
       "model_id": "26bce1710cf846b2b1305d7d36e504b8",
       "version_major": 2,
       "version_minor": 0
      },
      "text/plain": [
       "VBox()"
      ]
     },
     "metadata": {},
     "output_type": "display_data"
    },
    {
     "data": {
      "application/vnd.jupyter.widget-view+json": {
       "model_id": "",
       "version_major": 2,
       "version_minor": 0
      },
      "text/plain": [
       "FloatProgress(value=0.0, bar_style='info', description='Progress:', layout=Layout(height='25px', width='50%'),…"
      ]
     },
     "metadata": {},
     "output_type": "display_data"
    },
    {
     "name": "stdout",
     "output_type": "stream",
     "text": [
      "+--------------------+-----+\n",
      "|            category|count|\n",
      "+--------------------+-----+\n",
      "|         Restaurants|50763|\n",
      "|                Food|29469|\n",
      "|            Shopping|26205|\n",
      "|       Beauty & Spas|16574|\n",
      "|       Home Services|16465|\n",
      "|    Health & Medical|15102|\n",
      "|      Local Services|12192|\n",
      "|           Nightlife|11990|\n",
      "|                Bars|10741|\n",
      "|          Automotive|10119|\n",
      "|Event Planning & ...| 9644|\n",
      "|         Active Life| 9231|\n",
      "|        Coffee & Tea| 7725|\n",
      "|          Sandwiches| 7272|\n",
      "|             Fashion| 6599|\n",
      "|American (Traditi...| 6541|\n",
      "|         Hair Salons| 5900|\n",
      "|               Pizza| 5756|\n",
      "|     Hotels & Travel| 5703|\n",
      "|  Breakfast & Brunch| 5505|\n",
      "+--------------------+-----+\n",
      "only showing top 20 rows"
     ]
    }
   ],
   "source": [
    "top_category = association_table.groupby('category')\\\n",
    "                    .count()\\\n",
    "                    .orderBy(['count'], ascending = False)\n",
    "top_category.show(20) "
   ]
  },
  {
   "cell_type": "code",
   "execution_count": 16,
   "metadata": {},
   "outputs": [],
   "source": [
    "%matplotlib inline"
   ]
  },
  {
   "cell_type": "code",
   "execution_count": 17,
   "metadata": {},
   "outputs": [
    {
     "data": {
      "application/vnd.jupyter.widget-view+json": {
       "model_id": "2f6b7ccbed5c44e58a9581898f3e930b",
       "version_major": 2,
       "version_minor": 0
      },
      "text/plain": [
       "VBox()"
      ]
     },
     "metadata": {},
     "output_type": "display_data"
    },
    {
     "data": {
      "application/vnd.jupyter.widget-view+json": {
       "model_id": "",
       "version_major": 2,
       "version_minor": 0
      },
      "text/plain": [
       "FloatProgress(value=0.0, bar_style='info', description='Progress:', layout=Layout(height='25px', width='50%'),…"
      ]
     },
     "metadata": {},
     "output_type": "display_data"
    },
    {
     "data": {
      "image/png": "[encoded data removed]",
      "text/plain": [
       "<IPython.core.display.Image object>"
      ]
     },
     "metadata": {},
     "output_type": "display_data"
    }
   ],
   "source": [
    "df_plt=top_category.toPandas().sort_values(by='count',ascending=False).head(20).sort_values(by='count',ascending=True)\\\n",
    ".plot(x='category',y='count',kind='barh',fontsize=6,figsize=(12, 6), color = 'blue')\n",
    "plt.ylabel('Category')\n",
    "plt.xlabel('Count')\n",
    "plt.title('Top Category By Business')\n",
    "%matplot plt\n"
   ]
  },
  {
   "cell_type": "markdown",
   "metadata": {},
   "source": [
    "# Do Yelp Reviews Skew Negative?\n",
    "\n",
    "Oftentimes, it is said that the only people who write a written review are those who are extremely _dissatisfied_ or extremely _satisfied_ with the service received. \n",
    "\n",
    "How true is this really? Let's try and answer this question."
   ]
  },
  {
   "cell_type": "markdown",
   "metadata": {},
   "source": [
    "## Loading User Data\n",
    "\n",
    "Begin by loading the user data set from S3 and printing schema to determine what data is available."
   ]
  },
  {
   "cell_type": "code",
   "execution_count": 18,
   "metadata": {},
   "outputs": [
    {
     "data": {
      "application/vnd.jupyter.widget-view+json": {
       "model_id": "bcc012e466de4303b3df2db5c8ef3e15",
       "version_major": 2,
       "version_minor": 0
      },
      "text/plain": [
       "VBox()"
      ]
     },
     "metadata": {},
     "output_type": "display_data"
    },
    {
     "data": {
      "application/vnd.jupyter.widget-view+json": {
       "model_id": "",
       "version_major": 2,
       "version_minor": 0
      },
      "text/plain": [
       "FloatProgress(value=0.0, bar_style='info', description='Progress:', layout=Layout(height='25px', width='50%'),…"
      ]
     },
     "metadata": {},
     "output_type": "display_data"
    },
    {
     "name": "stdout",
     "output_type": "stream",
     "text": [
      "root\n",
      " |-- business_id: string (nullable = true)\n",
      " |-- cool: long (nullable = true)\n",
      " |-- date: string (nullable = true)\n",
      " |-- funny: long (nullable = true)\n",
      " |-- review_id: string (nullable = true)\n",
      " |-- stars: double (nullable = true)\n",
      " |-- text: string (nullable = true)\n",
      " |-- useful: long (nullable = true)\n",
      " |-- user_id: string (nullable = true)"
     ]
    }
   ],
   "source": [
    "Reviewdf= spark.read.json('s3://sta9760-lei-yelpdatasets/yelp/yelp_academic_dataset_review.json')\n",
    "Reviewdf.printSchema()"
   ]
  },
  {
   "cell_type": "markdown",
   "metadata": {},
   "source": [
    "Let's begin by listing the `business_id` and `stars` columns together for the user reviews data."
   ]
  },
  {
   "cell_type": "code",
   "execution_count": 19,
   "metadata": {},
   "outputs": [
    {
     "data": {
      "application/vnd.jupyter.widget-view+json": {
       "model_id": "5e82e177fc2f4a96ab1f94ebf4e118bc",
       "version_major": 2,
       "version_minor": 0
      },
      "text/plain": [
       "VBox()"
      ]
     },
     "metadata": {},
     "output_type": "display_data"
    },
    {
     "data": {
      "application/vnd.jupyter.widget-view+json": {
       "model_id": "",
       "version_major": 2,
       "version_minor": 0
      },
      "text/plain": [
       "FloatProgress(value=0.0, bar_style='info', description='Progress:', layout=Layout(height='25px', width='50%'),…"
      ]
     },
     "metadata": {},
     "output_type": "display_data"
    },
    {
     "name": "stdout",
     "output_type": "stream",
     "text": [
      "+--------------------+-----+\n",
      "|         business_id|stars|\n",
      "+--------------------+-----+\n",
      "|DiRIdYhGyuTNZurKy...|  3.0|\n",
      "|bPmWDBkjBhV11Yk4B...|  5.0|\n",
      "|xHdKDNcJrvkYJkAGs...|  4.0|\n",
      "|Irp5sgl7XASH5ZTw2...|  5.0|\n",
      "|R8fLQ6TLz06MQR69K...|  3.0|\n",
      "+--------------------+-----+"
     ]
    }
   ],
   "source": [
    "Reviewdf.createOrReplaceTempView('review')\n",
    "sqldf = spark.sql(\n",
    "'''\n",
    "SELECT business_id,stars\n",
    "FROM review\n",
    "LIMIT 5\n",
    "'''\n",
    ")\n",
    "sqldf.show()"
   ]
  },
  {
   "cell_type": "markdown",
   "metadata": {},
   "source": [
    "Now, let's aggregate along the `stars` column to get a resultant dataframe that displays _average stars_ per business as accumulated by users who **took the time to submit a written review**."
   ]
  },
  {
   "cell_type": "code",
   "execution_count": 20,
   "metadata": {},
   "outputs": [
    {
     "data": {
      "application/vnd.jupyter.widget-view+json": {
       "model_id": "72767c5d9dda4181976e79c2f028b2d8",
       "version_major": 2,
       "version_minor": 0
      },
      "text/plain": [
       "VBox()"
      ]
     },
     "metadata": {},
     "output_type": "display_data"
    },
    {
     "data": {
      "application/vnd.jupyter.widget-view+json": {
       "model_id": "",
       "version_major": 2,
       "version_minor": 0
      },
      "text/plain": [
       "FloatProgress(value=0.0, bar_style='info', description='Progress:', layout=Layout(height='25px', width='50%'),…"
      ]
     },
     "metadata": {},
     "output_type": "display_data"
    },
    {
     "name": "stdout",
     "output_type": "stream",
     "text": [
      "+--------------------+-----------------+\n",
      "|         business_id|       avg(stars)|\n",
      "+--------------------+-----------------+\n",
      "|uEUweopM30lHcVxjO...|              3.0|\n",
      "|wdBrDCbZopowEkIEX...|4.538461538461538|\n",
      "|L3WCfeVozu5etMhz4...|              4.2|\n",
      "|bOnsvrz1VkbrZM1jV...|              3.8|\n",
      "|R0IJhEI-zSJpYT1YN...|3.606060606060606|\n",
      "+--------------------+-----------------+"
     ]
    }
   ],
   "source": [
    "Reviewdf.createOrReplaceTempView('review')\n",
    "sqldf = spark.sql(\n",
    "'''\n",
    "SELECT business_id,avg(stars)\n",
    "FROM review\n",
    "GROUP BY business_id\n",
    "LIMIT 5\n",
    "'''\n",
    ")\n",
    "sqldf.show()"
   ]
  },
  {
   "cell_type": "markdown",
   "metadata": {},
   "source": [
    "Now the fun part - let's join our two dataframes (reviews and business data) by `business_id`. "
   ]
  },
  {
   "cell_type": "markdown",
   "metadata": {},
   "source": [
    "Let's see a few of these:"
   ]
  },
  {
   "cell_type": "code",
   "execution_count": 21,
   "metadata": {},
   "outputs": [
    {
     "data": {
      "application/vnd.jupyter.widget-view+json": {
       "model_id": "eecbe6750960498a88a5b4f27d7bcdfa",
       "version_major": 2,
       "version_minor": 0
      },
      "text/plain": [
       "VBox()"
      ]
     },
     "metadata": {},
     "output_type": "display_data"
    },
    {
     "data": {
      "application/vnd.jupyter.widget-view+json": {
       "model_id": "",
       "version_major": 2,
       "version_minor": 0
      },
      "text/plain": [
       "FloatProgress(value=0.0, bar_style='info', description='Progress:', layout=Layout(height='25px', width='50%'),…"
      ]
     },
     "metadata": {},
     "output_type": "display_data"
    },
    {
     "name": "stdout",
     "output_type": "stream",
     "text": [
      "+---------+-----+--------------------+---------+-----+\n",
      "|avg_stars|stars|                name|     city|state|\n",
      "+---------+-----+--------------------+---------+-----+\n",
      "|      5.0|  5.0|Little Children S...|Brookline|   MA|\n",
      "|      5.0|  5.0|Gentle Touch Home...|  Atlanta|   GA|\n",
      "|      5.0|  5.0| Dragonfly Preschool| Portland|   OR|\n",
      "|      5.0|  5.0|    Reunion Car Care|Davenport|   FL|\n",
      "|      5.0|  5.0|Shamso Hair Studi...|   Boston|   MA|\n",
      "+---------+-----+--------------------+---------+-----+"
     ]
    }
   ],
   "source": [
    "df.createOrReplaceTempView('business')\n",
    "Reviewdf.createOrReplaceTempView('review')\n",
    "sqldf = spark.sql(\n",
    "'''\n",
    "SELECT DISTINCT AVG(review.stars) OVER (PARTITION BY review.business_id) AS avg_stars,business.stars,name,city,state\n",
    "FROM \n",
    "business\n",
    "JOIN\n",
    "review\n",
    "ON business.business_id=review.business_id\n",
    "ORDER BY avg_stars DESC\n",
    "LIMIT 5\n",
    "'''\n",
    ")\n",
    "\n",
    "sqldf.show()\n"
   ]
  },
  {
   "cell_type": "markdown",
   "metadata": {},
   "source": [
    "Compute a new dataframe that calculates what we will call the _skew_ (for lack of a better word) between the avg stars accumulated from written reviews and the _actual_ star rating of a business (ie: the average of stars given by reviewers who wrote an actual review **and** reviewers who just provided a star rating).\n",
    "\n",
    "The formula you can use is something like:\n",
    "\n",
    "```\n",
    "(row['avg(stars)'] - row['stars']) / row['stars']\n",
    "```\n",
    "\n",
    "If the **skew** is negative, we can interpret that to be: reviewers who left a written response were more dissatisfied than normal. If **skew** is positive, we can interpret that to be: reviewers who left a written response were more satisfied than normal."
   ]
  },
  {
   "cell_type": "code",
   "execution_count": 22,
   "metadata": {},
   "outputs": [
    {
     "data": {
      "application/vnd.jupyter.widget-view+json": {
       "model_id": "79feb424d8924afe9dd052dd0a90e1b5",
       "version_major": 2,
       "version_minor": 0
      },
      "text/plain": [
       "VBox()"
      ]
     },
     "metadata": {},
     "output_type": "display_data"
    },
    {
     "data": {
      "application/vnd.jupyter.widget-view+json": {
       "model_id": "",
       "version_major": 2,
       "version_minor": 0
      },
      "text/plain": [
       "FloatProgress(value=0.0, bar_style='info', description='Progress:', layout=Layout(height='25px', width='50%'),…"
      ]
     },
     "metadata": {},
     "output_type": "display_data"
    },
    {
     "name": "stdout",
     "output_type": "stream",
     "text": [
      "+------+\n",
      "|  skew|\n",
      "+------+\n",
      "|   0.0|\n",
      "|   0.0|\n",
      "| 0.123|\n",
      "| 0.026|\n",
      "| 0.007|\n",
      "| 0.014|\n",
      "|-0.043|\n",
      "|   0.0|\n",
      "| 0.014|\n",
      "| 0.086|\n",
      "|-0.022|\n",
      "| 0.086|\n",
      "|-0.044|\n",
      "|-0.042|\n",
      "| 0.056|\n",
      "|-0.111|\n",
      "| 0.067|\n",
      "|-0.049|\n",
      "| 0.083|\n",
      "|  0.05|\n",
      "+------+\n",
      "only showing top 20 rows"
     ]
    }
   ],
   "source": [
    "sqldf = spark.sql(\n",
    "'''\n",
    "SELECT ROUND((avg_stars-stars)/stars,3) as skew FROM\n",
    "(SELECT DISTINCT AVG(review.stars) OVER (PARTITION BY review.business_id) AS avg_stars,business.stars,name,city,state\n",
    "FROM \n",
    "business\n",
    "JOIN\n",
    "review\n",
    "ON business.business_id=review.business_id\n",
    ")\n",
    "'''\n",
    ")\n",
    "\n",
    "sqldf.show()"
   ]
  },
  {
   "cell_type": "code",
   "execution_count": 23,
   "metadata": {},
   "outputs": [
    {
     "data": {
      "application/vnd.jupyter.widget-view+json": {
       "model_id": "0ddd17f5b5ed4bdfb3027e19afed416e",
       "version_major": 2,
       "version_minor": 0
      },
      "text/plain": [
       "VBox()"
      ]
     },
     "metadata": {},
     "output_type": "display_data"
    },
    {
     "data": {
      "application/vnd.jupyter.widget-view+json": {
       "model_id": "",
       "version_major": 2,
       "version_minor": 0
      },
      "text/plain": [
       "FloatProgress(value=0.0, bar_style='info', description='Progress:', layout=Layout(height='25px', width='50%'),…"
      ]
     },
     "metadata": {},
     "output_type": "display_data"
    },
    {
     "data": {
      "image/png": "[encoded data removed]",
      "text/plain": [
       "<IPython.core.display.Image object>"
      ]
     },
     "metadata": {},
     "output_type": "display_data"
    }
   ],
   "source": [
    "sqldf.toPandas().plot(kind='hist',bins=50,title = \"Skewness of Yelp Business Rating\",density=True)\n",
    "plt.xlabel('k')\n",
    "%matplot plt"
   ]
  },
  {
   "cell_type": "markdown",
   "metadata": {},
   "source": [
    "And finally, graph it!"
   ]
  },
  {
   "cell_type": "code",
   "execution_count": 24,
   "metadata": {},
   "outputs": [
    {
     "data": {
      "application/vnd.jupyter.widget-view+json": {
       "model_id": "f38ac93e096b471d89612d14b4ec8a2c",
       "version_major": 2,
       "version_minor": 0
      },
      "text/plain": [
       "VBox()"
      ]
     },
     "metadata": {},
     "output_type": "display_data"
    },
    {
     "data": {
      "application/vnd.jupyter.widget-view+json": {
       "model_id": "",
       "version_major": 2,
       "version_minor": 0
      },
      "text/plain": [
       "FloatProgress(value=0.0, bar_style='info', description='Progress:', layout=Layout(height='25px', width='50%'),…"
      ]
     },
     "metadata": {},
     "output_type": "display_data"
    },
    {
     "data": {
      "image/png": "[encoded data removed]",
      "text/plain": [
       "<IPython.core.display.Image object>"
      ]
     },
     "metadata": {},
     "output_type": "display_data"
    }
   ],
   "source": [
    "sns.distplot(sqldf.toPandas(), bins =50).\\\n",
    "    set(title = \"Skewness of Yelp Business Rating\")\n",
    "\n",
    "%matplot plt"
   ]
  },
  {
   "cell_type": "markdown",
   "metadata": {},
   "source": [
    "So, do Yelp (written) Reviews skew negative? Does this analysis actually prove anything? Expound on implications / interpretations of this graph. \n",
    "\n",
    "Yes, it is skew negative. Reviewers who left a written response were more unsatisfied than normal"
   ]
  },
  {
   "cell_type": "markdown",
   "metadata": {},
   "source": [
    "# Should the Elite be Trusted? (Or, some other analysis of your choice)"
   ]
  },
  {
   "cell_type": "markdown",
   "metadata": {},
   "source": [
    "For the final portion - you have a choice:\n",
    "\n",
    "* Try and analyze some interesting dimension to this data. The **ONLY** requirement is that you must use the **Users** dataset and join on either the **business* or **reviews** dataset\n",
    "* Or, you may try and answer the question posed: how accurate or close are the ratings of an \"elite\" user (check Users table schema) vs the actual business rating.\n",
    "\n",
    "Feel free to use any and all methodologies at your disposal - only requirement is you must render one visualization in your analysis"
   ]
  },
  {
   "cell_type": "markdown",
   "metadata": {},
   "source": [
    "# Loading user data"
   ]
  },
  {
   "cell_type": "markdown",
   "metadata": {},
   "source": [
    "Begin by loading the user data set from S3 and printing schema to determine what data is available."
   ]
  },
  {
   "cell_type": "code",
   "execution_count": 25,
   "metadata": {},
   "outputs": [
    {
     "data": {
      "application/vnd.jupyter.widget-view+json": {
       "model_id": "79e9f5ee155e42c2bfcba8d0ebae2ddf",
       "version_major": 2,
       "version_minor": 0
      },
      "text/plain": [
       "VBox()"
      ]
     },
     "metadata": {},
     "output_type": "display_data"
    },
    {
     "data": {
      "application/vnd.jupyter.widget-view+json": {
       "model_id": "",
       "version_major": 2,
       "version_minor": 0
      },
      "text/plain": [
       "FloatProgress(value=0.0, bar_style='info', description='Progress:', layout=Layout(height='25px', width='50%'),…"
      ]
     },
     "metadata": {},
     "output_type": "display_data"
    }
   ],
   "source": [
    "Userdf=spark.read.json('s3://sta9760-lei-yelpdatasets/yelp/yelp_academic_dataset_user.json')"
   ]
  },
  {
   "cell_type": "code",
   "execution_count": 26,
   "metadata": {},
   "outputs": [
    {
     "data": {
      "application/vnd.jupyter.widget-view+json": {
       "model_id": "f3d0e1a1943e4de1a6c75878b1c32464",
       "version_major": 2,
       "version_minor": 0
      },
      "text/plain": [
       "VBox()"
      ]
     },
     "metadata": {},
     "output_type": "display_data"
    },
    {
     "data": {
      "application/vnd.jupyter.widget-view+json": {
       "model_id": "",
       "version_major": 2,
       "version_minor": 0
      },
      "text/plain": [
       "FloatProgress(value=0.0, bar_style='info', description='Progress:', layout=Layout(height='25px', width='50%'),…"
      ]
     },
     "metadata": {},
     "output_type": "display_data"
    },
    {
     "name": "stdout",
     "output_type": "stream",
     "text": [
      "root\n",
      " |-- average_stars: double (nullable = true)\n",
      " |-- compliment_cool: long (nullable = true)\n",
      " |-- compliment_cute: long (nullable = true)\n",
      " |-- compliment_funny: long (nullable = true)\n",
      " |-- compliment_hot: long (nullable = true)\n",
      " |-- compliment_list: long (nullable = true)\n",
      " |-- compliment_more: long (nullable = true)\n",
      " |-- compliment_note: long (nullable = true)\n",
      " |-- compliment_photos: long (nullable = true)\n",
      " |-- compliment_plain: long (nullable = true)\n",
      " |-- compliment_profile: long (nullable = true)\n",
      " |-- compliment_writer: long (nullable = true)\n",
      " |-- cool: long (nullable = true)\n",
      " |-- elite: string (nullable = true)\n",
      " |-- fans: long (nullable = true)\n",
      " |-- friends: string (nullable = true)\n",
      " |-- funny: long (nullable = true)\n",
      " |-- name: string (nullable = true)\n",
      " |-- review_count: long (nullable = true)\n",
      " |-- useful: long (nullable = true)\n",
      " |-- user_id: string (nullable = true)\n",
      " |-- yelping_since: string (nullable = true)\n",
      "\n",
      "root\n",
      " |-- business_id: string (nullable = true)\n",
      " |-- cool: long (nullable = true)\n",
      " |-- date: string (nullable = true)\n",
      " |-- funny: long (nullable = true)\n",
      " |-- review_id: string (nullable = true)\n",
      " |-- stars: double (nullable = true)\n",
      " |-- text: string (nullable = true)\n",
      " |-- useful: long (nullable = true)\n",
      " |-- user_id: string (nullable = true)"
     ]
    }
   ],
   "source": [
    "Userdf.printSchema()\n",
    "Reviewdf.printSchema()\n"
   ]
  },
  {
   "cell_type": "code",
   "execution_count": 27,
   "metadata": {},
   "outputs": [
    {
     "data": {
      "application/vnd.jupyter.widget-view+json": {
       "model_id": "30980e0bc9fd43c980d45beee2af109b",
       "version_major": 2,
       "version_minor": 0
      },
      "text/plain": [
       "VBox()"
      ]
     },
     "metadata": {},
     "output_type": "display_data"
    },
    {
     "data": {
      "application/vnd.jupyter.widget-view+json": {
       "model_id": "",
       "version_major": 2,
       "version_minor": 0
      },
      "text/plain": [
       "FloatProgress(value=0.0, bar_style='info', description='Progress:', layout=Layout(height='25px', width='50%'),…"
      ]
     },
     "metadata": {},
     "output_type": "display_data"
    },
    {
     "name": "stdout",
     "output_type": "stream",
     "text": [
      "+--------------------+--------------------+-------------+------------+\n",
      "|             user_id|               elite|average_stars|review_count|\n",
      "+--------------------+--------------------+-------------+------------+\n",
      "|q_QQ5kBBwlCcbL1s4...|2006,2007,2008,20...|         3.85|        1220|\n",
      "|dIIKEfOgo0KqUfGQv...|2007,2008,2009,20...|         4.09|        2136|\n",
      "|D6ErcUnFALnCQN4b1...|           2010,2011|         3.76|         119|\n",
      "|JnPIjvC0cmooNDfsa...|2009,2010,2011,20...|         3.77|         987|\n",
      "|37Hc8hr3cw0iHLoPz...|      2009,2010,2011|         3.72|         495|\n",
      "|n-QwITZYrXlKQRiV3...|2010,2011,2012,20...|         3.59|         229|\n",
      "|eCJoZqpV1fDKJGAsX...|                    |         3.86|          51|\n",
      "|cojecOwQJpsYDxnjt...|           2010,2011|         3.79|          51|\n",
      "|1jXmzuIFKxTnEnR0p...|2010,2011,2012,20...|         3.43|         299|\n",
      "|-8QoOIfvwwxJ4sY20...|2012,2013,2014,20...|         3.88|         288|\n",
      "|EtofuImujQBSo02xa...|           2009,2010|         3.83|          44|\n",
      "|cxS6dbjyPgPS1S890...|                    |         4.18|          65|\n",
      "|MUzkXfPS9JaMgJ907...|2010,2012,2013,20...|         4.16|         750|\n",
      "|tjwblGkWN9m0vsGay...|2010,2011,2012,20...|         3.66|         632|\n",
      "|m-zIVssiXN4bnDFqM...|                    |          4.5|           2|\n",
      "|fxqvyXlml4400Bgls...|2011,2012,2013,20...|         3.65|         363|\n",
      "|9edAbpniyhHFdpAvk...| 2007,2008,2009,2010|         3.73|         356|\n",
      "|wURnB9fRNGAli13yB...| 2009,2010,2011,2012|         3.75|          77|\n",
      "|l4P65LXNBnJqI7oTX...|2008,2009,2010,20...|         3.93|         202|\n",
      "|9RIXlhUb_xEVuc_o0...|                    |         3.57|          53|\n",
      "+--------------------+--------------------+-------------+------------+\n",
      "only showing top 20 rows\n",
      "\n",
      "+--------------------+--------------------+-----+\n",
      "|             user_id|         business_id|stars|\n",
      "+--------------------+--------------------+-----+\n",
      "|ak0TdVmGKo4pwqdJS...|buF9druCkbuXLX526...|  4.0|\n",
      "|YoVfDbnISlW0f7abN...|RA4V8pr014UyUbDvI...|  4.0|\n",
      "|eC5evKn1TWDyHCyQA...|_sS2LBIGNT5NQb6PD...|  5.0|\n",
      "|SFQ1jcnGguO0LYWnb...|0AzLzHfOJgL7ROwhd...|  2.0|\n",
      "|0kA0PAJ8QFMeveQWH...|8zehGz9jnxPqXtOc7...|  4.0|\n",
      "|RNm_RWkcd02Li2mKP...|xGXzsc-hzam-VArK6...|  1.0|\n",
      "|Q8c91v7luItVB0cMF...|EXOsmAB1s71WePlQk...|  2.0|\n",
      "|XGkAG92TQ3MQUKGX9...|DbXHNl890xSXNiyRc...|  5.0|\n",
      "|LWUnzwK0ILquLLZcH...|mD-A9KOWADXvfrZfw...|  4.0|\n",
      "|99RsBrARhhx60UnAC...|EEHhKSxUvJkoPSzeG...|  5.0|\n",
      "|eLAYHxHUutiXswy-C...|WQFn1A7-UAA4JT5YW...|  1.0|\n",
      "|Ngl83gs3n22SzLAsN...|iZxfWlfNPXV_0S1xO...|  2.0|\n",
      "|hn0ZbitvmlHnF--KJ...|TA1KUSCu8GkWP9w0r...|  4.0|\n",
      "|B7YSV6r1ePAXc69Fk...|wZgUAuDuEGPEzKK-P...|  1.0|\n",
      "|xpxWG7jQXZE6BcSeu...|mw_qxZJraNu7Q6u0G...|  5.0|\n",
      "|HvpNr0ohHCaVLp014...|gGvNgShksetPoimyK...|  4.0|\n",
      "|bUHweiErUJ36WGeNr...|6Hm2FmfLcU_M91TrZ...|  5.0|\n",
      "|JHXQEayrDHOWGexs0...|KXCXaF5qimmtKKqnP...|  1.0|\n",
      "|DECuRZwkUw8ELQZfN...|zmZ3HkVCeZPBefJJx...|  4.0|\n",
      "|jySmPCkEkJR3cWJlk...|ZW7aI5FO_3q_vSzI4...|  5.0|\n",
      "+--------------------+--------------------+-----+\n",
      "only showing top 20 rows"
     ]
    }
   ],
   "source": [
    "Userdf.createOrReplaceTempView('user')\n",
    "Reviewdf.createOrReplaceTempView('review')\n",
    "user_t = spark.sql(\n",
    "'''\n",
    "SELECT user_id, elite, average_stars, review_count\n",
    "FROM user\n",
    "'''\n",
    ")\n",
    "review_t = spark.sql(\n",
    "'''\n",
    "SELECT user_id,business_id,stars\n",
    "FROM review\n",
    "'''\n",
    ")\n",
    "user_t.show()\n",
    "review_t.show()"
   ]
  },
  {
   "cell_type": "markdown",
   "metadata": {},
   "source": [
    "# Join user table with reviews table"
   ]
  },
  {
   "cell_type": "code",
   "execution_count": 28,
   "metadata": {},
   "outputs": [
    {
     "data": {
      "application/vnd.jupyter.widget-view+json": {
       "model_id": "74268808f0b84b90afb2d335be3fe262",
       "version_major": 2,
       "version_minor": 0
      },
      "text/plain": [
       "VBox()"
      ]
     },
     "metadata": {},
     "output_type": "display_data"
    },
    {
     "data": {
      "application/vnd.jupyter.widget-view+json": {
       "model_id": "",
       "version_major": 2,
       "version_minor": 0
      },
      "text/plain": [
       "FloatProgress(value=0.0, bar_style='info', description='Progress:', layout=Layout(height='25px', width='50%'),…"
      ]
     },
     "metadata": {},
     "output_type": "display_data"
    },
    {
     "name": "stdout",
     "output_type": "stream",
     "text": [
      "+--------------------+-----+-----+-------------+------------+\n",
      "|         business_id|stars|elite|average_stars|review_count|\n",
      "+--------------------+-----+-----+-------------+------------+\n",
      "|GgR7kcKykuqXB11fW...|  5.0|     |         2.62|          12|\n",
      "|rxNfidGLHtMYyLNeo...|  5.0|     |         3.67|          11|\n",
      "|bAuYOa-VuqTOnKzWN...|  2.0|     |         2.73|          11|\n",
      "|vqQXI-Pxz3izeTUF6...|  5.0|     |         2.73|          11|\n",
      "|2OaX6XjAoI7VD6jLd...|  2.0|     |         2.73|          11|\n",
      "|IfOj3AxPl3Exsd_Yl...|  1.0|     |         2.73|          11|\n",
      "|piuF4DdprICZgRent...|  2.0|     |         3.67|          11|\n",
      "|_ihrL49Ua4O_qd_G-...|  5.0|     |         3.67|          11|\n",
      "|huveiOZFjsFI_Aiq9...|  4.0|     |         3.67|          11|\n",
      "|ggqr9BEklylICKl77...|  2.0|     |         3.67|          11|\n",
      "|kj77ZrCsFlVuqWkIr...|  5.0|     |         3.67|          11|\n",
      "|szJPyyYqJRxithtH6...|  4.0|     |         3.67|          11|\n",
      "|VZVkZx2Zsq0ES8Sfo...|  1.0|     |         2.25|           7|\n",
      "|ENBeXC1MunFTlgl_7...|  1.0|     |         2.25|           7|\n",
      "|Tav-9OWqGKFestUqt...|  4.0|     |         4.75|           2|\n",
      "|OMOxwfTxPilOunHS2...|  5.0|     |         4.43|           7|\n",
      "|KAwB6KyjhUizBhFo8...|  5.0|     |         4.43|           7|\n",
      "|2kKbqNPY6j1AbpXxY...|  5.0|     |         4.43|           7|\n",
      "|qUD8Oopa9pUTPVudH...|  5.0|     |         4.43|           7|\n",
      "|f-dvot7GwmnObBdCl...|  5.0|     |         4.43|           7|\n",
      "+--------------------+-----+-----+-------------+------------+\n",
      "only showing top 20 rows"
     ]
    }
   ],
   "source": [
    "\n",
    "user_t.createOrReplaceTempView('user_t')\n",
    "review_t.createOrReplaceTempView('review_t')\n",
    "UserReviewdf = spark.sql(\n",
    "'''\n",
    "SELECT review_t.business_id,review_t.stars,user_t.elite,user_t.average_stars,user_t.review_count\n",
    "FROM review_t,user_t\n",
    "WHERE review_t.user_id=user_t.user_id\n",
    "'''\n",
    ")\n",
    "UserReviewdf.show()"
   ]
  },
  {
   "cell_type": "markdown",
   "metadata": {},
   "source": [
    "# Replace Elite user with YES, otherwise NO"
   ]
  },
  {
   "cell_type": "code",
   "execution_count": 29,
   "metadata": {},
   "outputs": [
    {
     "data": {
      "application/vnd.jupyter.widget-view+json": {
       "model_id": "95256b9e4e6c46e8a451bb13e4f14bec",
       "version_major": 2,
       "version_minor": 0
      },
      "text/plain": [
       "VBox()"
      ]
     },
     "metadata": {},
     "output_type": "display_data"
    },
    {
     "data": {
      "application/vnd.jupyter.widget-view+json": {
       "model_id": "",
       "version_major": 2,
       "version_minor": 0
      },
      "text/plain": [
       "FloatProgress(value=0.0, bar_style='info', description='Progress:', layout=Layout(height='25px', width='50%'),…"
      ]
     },
     "metadata": {},
     "output_type": "display_data"
    },
    {
     "name": "stdout",
     "output_type": "stream",
     "text": [
      "+--------------------+-----+-------------+------------+---------+\n",
      "|         business_id|stars|average_stars|review_count|Elite_Y_N|\n",
      "+--------------------+-----+-------------+------------+---------+\n",
      "|GgR7kcKykuqXB11fW...|  5.0|         2.62|          12|       NO|\n",
      "|rxNfidGLHtMYyLNeo...|  5.0|         3.67|          11|       NO|\n",
      "|bAuYOa-VuqTOnKzWN...|  2.0|         2.73|          11|       NO|\n",
      "|vqQXI-Pxz3izeTUF6...|  5.0|         2.73|          11|       NO|\n",
      "|2OaX6XjAoI7VD6jLd...|  2.0|         2.73|          11|       NO|\n",
      "|IfOj3AxPl3Exsd_Yl...|  1.0|         2.73|          11|       NO|\n",
      "|szJPyyYqJRxithtH6...|  4.0|         3.67|          11|       NO|\n",
      "|piuF4DdprICZgRent...|  2.0|         3.67|          11|       NO|\n",
      "|_ihrL49Ua4O_qd_G-...|  5.0|         3.67|          11|       NO|\n",
      "|ggqr9BEklylICKl77...|  2.0|         3.67|          11|       NO|\n",
      "|kj77ZrCsFlVuqWkIr...|  5.0|         3.67|          11|       NO|\n",
      "|huveiOZFjsFI_Aiq9...|  4.0|         3.67|          11|       NO|\n",
      "|VZVkZx2Zsq0ES8Sfo...|  1.0|         2.25|           7|       NO|\n",
      "|ENBeXC1MunFTlgl_7...|  1.0|         2.25|           7|       NO|\n",
      "|Tav-9OWqGKFestUqt...|  4.0|         4.75|           2|       NO|\n",
      "|OMOxwfTxPilOunHS2...|  5.0|         4.43|           7|       NO|\n",
      "|wpm_IUt_AoZOXdUvP...|  5.0|         4.43|           7|       NO|\n",
      "|2kKbqNPY6j1AbpXxY...|  5.0|         4.43|           7|       NO|\n",
      "|qUD8Oopa9pUTPVudH...|  5.0|         4.43|           7|       NO|\n",
      "|f-dvot7GwmnObBdCl...|  5.0|         4.43|           7|       NO|\n",
      "+--------------------+-----+-------------+------------+---------+\n",
      "only showing top 20 rows"
     ]
    }
   ],
   "source": [
    "UserReviewdf.createOrReplaceTempView('ur')\n",
    "elite_user = spark.sql(\n",
    "'''\n",
    "SELECT business_id,stars,average_stars, review_count, (CASE\n",
    "WHEN elite like '' THEN 'NO' ELSE 'YES' END)AS Elite_Y_N\n",
    "FROM ur\n",
    "'''\n",
    ")\n",
    "\n",
    "elite_user.show()"
   ]
  },
  {
   "cell_type": "markdown",
   "metadata": {},
   "source": [
    "# Calculate the difference between all users' ratings with actual business ratings"
   ]
  },
  {
   "cell_type": "code",
   "execution_count": 30,
   "metadata": {},
   "outputs": [
    {
     "data": {
      "application/vnd.jupyter.widget-view+json": {
       "model_id": "65808955ec3d46d48adcbeb18c9cdab9",
       "version_major": 2,
       "version_minor": 0
      },
      "text/plain": [
       "VBox()"
      ]
     },
     "metadata": {},
     "output_type": "display_data"
    },
    {
     "data": {
      "application/vnd.jupyter.widget-view+json": {
       "model_id": "",
       "version_major": 2,
       "version_minor": 0
      },
      "text/plain": [
       "FloatProgress(value=0.0, bar_style='info', description='Progress:', layout=Layout(height='25px', width='50%'),…"
      ]
     },
     "metadata": {},
     "output_type": "display_data"
    },
    {
     "name": "stdout",
     "output_type": "stream",
     "text": [
      "+--------------------+-----+-------------+-------------------+---------+\n",
      "|         business_id|stars|average_stars|               diff|Elite_Y_N|\n",
      "+--------------------+-----+-------------+-------------------+---------+\n",
      "|GgR7kcKykuqXB11fW...|  5.0|         2.62|               2.38|       NO|\n",
      "|rxNfidGLHtMYyLNeo...|  5.0|         3.67|               1.33|       NO|\n",
      "|bAuYOa-VuqTOnKzWN...|  2.0|         2.73|               0.73|       NO|\n",
      "|vqQXI-Pxz3izeTUF6...|  5.0|         2.73|               2.27|       NO|\n",
      "|2OaX6XjAoI7VD6jLd...|  2.0|         2.73|               0.73|       NO|\n",
      "|IfOj3AxPl3Exsd_Yl...|  1.0|         2.73|               1.73|       NO|\n",
      "|piuF4DdprICZgRent...|  2.0|         3.67|               1.67|       NO|\n",
      "|_ihrL49Ua4O_qd_G-...|  5.0|         3.67|               1.33|       NO|\n",
      "|huveiOZFjsFI_Aiq9...|  4.0|         3.67|0.33000000000000007|       NO|\n",
      "|szJPyyYqJRxithtH6...|  4.0|         3.67|0.33000000000000007|       NO|\n",
      "|ggqr9BEklylICKl77...|  2.0|         3.67|               1.67|       NO|\n",
      "|kj77ZrCsFlVuqWkIr...|  5.0|         3.67|               1.33|       NO|\n",
      "|VZVkZx2Zsq0ES8Sfo...|  1.0|         2.25|               1.25|       NO|\n",
      "|ENBeXC1MunFTlgl_7...|  1.0|         2.25|               1.25|       NO|\n",
      "|Tav-9OWqGKFestUqt...|  4.0|         4.75|               0.75|       NO|\n",
      "|2kKbqNPY6j1AbpXxY...|  5.0|         4.43| 0.5700000000000003|       NO|\n",
      "|f-dvot7GwmnObBdCl...|  5.0|         4.43| 0.5700000000000003|       NO|\n",
      "|OMOxwfTxPilOunHS2...|  5.0|         4.43| 0.5700000000000003|       NO|\n",
      "|KAwB6KyjhUizBhFo8...|  5.0|         4.43| 0.5700000000000003|       NO|\n",
      "|wpm_IUt_AoZOXdUvP...|  5.0|         4.43| 0.5700000000000003|       NO|\n",
      "+--------------------+-----+-------------+-------------------+---------+\n",
      "only showing top 20 rows"
     ]
    }
   ],
   "source": [
    "elite_user.createOrReplaceTempView('elite_user')\n",
    "star_diff = spark.sql(\n",
    "'''\n",
    "SELECT business_id,stars,average_stars,abs(stars-average_stars) AS diff, Elite_Y_N\n",
    "FROM elite_user\n",
    "'''\n",
    ")\n",
    "star_diff.show()"
   ]
  },
  {
   "cell_type": "markdown",
   "metadata": {},
   "source": [
    "# Extract and filter users are elit, display their ratings difference with actual business ratings"
   ]
  },
  {
   "cell_type": "code",
   "execution_count": 31,
   "metadata": {},
   "outputs": [
    {
     "data": {
      "application/vnd.jupyter.widget-view+json": {
       "model_id": "bf04f2ae0f1f4a2ba9df42edf9199d40",
       "version_major": 2,
       "version_minor": 0
      },
      "text/plain": [
       "VBox()"
      ]
     },
     "metadata": {},
     "output_type": "display_data"
    },
    {
     "data": {
      "application/vnd.jupyter.widget-view+json": {
       "model_id": "",
       "version_major": 2,
       "version_minor": 0
      },
      "text/plain": [
       "FloatProgress(value=0.0, bar_style='info', description='Progress:', layout=Layout(height='25px', width='50%'),…"
      ]
     },
     "metadata": {},
     "output_type": "display_data"
    },
    {
     "name": "stdout",
     "output_type": "stream",
     "text": [
      "+--------------------+---------+\n",
      "|                diff|Elite_Y_N|\n",
      "+--------------------+---------+\n",
      "| 0.16999999999999993|      YES|\n",
      "|  0.5299999999999998|      YES|\n",
      "|                1.35|      YES|\n",
      "|0.009999999999999787|      YES|\n",
      "|  0.3700000000000001|      YES|\n",
      "|  0.3700000000000001|      YES|\n",
      "|  0.9900000000000002|      YES|\n",
      "|  0.8500000000000001|      YES|\n",
      "|  0.3700000000000001|      YES|\n",
      "|  1.8199999999999998|      YES|\n",
      "|  0.1499999999999999|      YES|\n",
      "|  0.5899999999999999|      YES|\n",
      "|  1.1800000000000002|      YES|\n",
      "|  0.6299999999999999|      YES|\n",
      "|  0.8700000000000001|      YES|\n",
      "|  0.9900000000000002|      YES|\n",
      "| 0.10000000000000009|      YES|\n",
      "|                1.37|      YES|\n",
      "|  0.3700000000000001|      YES|\n",
      "|                1.35|      YES|\n",
      "+--------------------+---------+\n",
      "only showing top 20 rows"
     ]
    }
   ],
   "source": [
    "star_diff.createOrReplaceTempView('star_diff')\n",
    "elit_diff = spark.sql(\n",
    "'''\n",
    "SELECT diff, Elite_Y_N\n",
    "FROM star_diff\n",
    "WHERE Elite_Y_N=\"YES\"\n",
    "'''\n",
    ")\n",
    "elit_diff.show()"
   ]
  },
  {
   "cell_type": "markdown",
   "metadata": {},
   "source": [
    "# Visualization of elit users rating with actual business star ratings"
   ]
  },
  {
   "cell_type": "markdown",
   "metadata": {},
   "source": [
    "Now, Following is the histogram displays absoluate difference between the ratings of elit users and the actual business star ratings. The difference is centralizing between [-1.25-1.25].There is slight rating difference. But overall, the rating of the elite should be trusted."
   ]
  },
  {
   "cell_type": "code",
   "execution_count": 32,
   "metadata": {},
   "outputs": [
    {
     "data": {
      "application/vnd.jupyter.widget-view+json": {
       "model_id": "ebf28d55d20e43b3a13a2a1e4bc869cf",
       "version_major": 2,
       "version_minor": 0
      },
      "text/plain": [
       "VBox()"
      ]
     },
     "metadata": {},
     "output_type": "display_data"
    },
    {
     "data": {
      "application/vnd.jupyter.widget-view+json": {
       "model_id": "",
       "version_major": 2,
       "version_minor": 0
      },
      "text/plain": [
       "FloatProgress(value=0.0, bar_style='info', description='Progress:', layout=Layout(height='25px', width='50%'),…"
      ]
     },
     "metadata": {},
     "output_type": "display_data"
    },
    {
     "data": {
      "image/png": "[encoded data removed]",
      "text/plain": [
       "<IPython.core.display.Image object>"
      ]
     },
     "metadata": {},
     "output_type": "display_data"
    }
   ],
   "source": [
    "elit_diff.createOrReplaceTempView('elit_diff')\n",
    "diff = spark.sql(\n",
    "'''\n",
    "SELECT diff\n",
    "FROM elit_diff\n",
    "'''\n",
    ")\n",
    "\n",
    "diff.toPandas().plot(kind='hist',bins=50,density=True)\n",
    "plt.xlabel('abs_diff')\n",
    "%matplot plt"
   ]
  }
 ],
 "metadata": {
  "kernelspec": {
   "display_name": "PySpark",
   "language": "",
   "name": "pysparkkernel"
  },
  "language_info": {
   "codemirror_mode": {
    "name": "python",
    "version": 2
   },
   "mimetype": "text/x-python",
   "name": "pyspark",
   "pygments_lexer": "python2"
  }
 },
 "nbformat": 4,
 "nbformat_minor": 4
}
